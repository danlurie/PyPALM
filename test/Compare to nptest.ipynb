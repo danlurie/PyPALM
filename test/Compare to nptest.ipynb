{
 "cells": [
  {
   "cell_type": "markdown",
   "metadata": {},
   "source": [
    "# Compare with R nptest"
   ]
  },
  {
   "cell_type": "code",
   "execution_count": 1,
   "metadata": {},
   "outputs": [],
   "source": [
    "import sys\n",
    "import pandas as pd\n",
    "import numpy as np\n",
    "from scipy import stats, io\n",
    "import seaborn as sns\n",
    "import matplotlib.pyplot as plt\n",
    "import statsmodels.api as sm\n",
    "import statsmodels.formula.api as smf\n",
    "import pingouin as pg"
   ]
  },
  {
   "cell_type": "code",
   "execution_count": 2,
   "metadata": {},
   "outputs": [],
   "source": [
    "sys.path.append('../../scripts')"
   ]
  },
  {
   "cell_type": "code",
   "execution_count": 3,
   "metadata": {},
   "outputs": [],
   "source": [
    "import fl_permute as fl\n",
    "import utils"
   ]
  },
  {
   "cell_type": "code",
   "execution_count": 4,
   "metadata": {},
   "outputs": [],
   "source": [
    "%matplotlib inline\n",
    "%config InlineBackend.figure_format = 'retina'\n",
    "sns.set_style('ticks')\n",
    "sns.set_context('notebook')\n",
    "sns.set_palette(\"colorblind\")"
   ]
  },
  {
   "cell_type": "markdown",
   "metadata": {},
   "source": [
    "Load group average connectivity and dynamics metrics (and ROI volumes)."
   ]
  },
  {
   "cell_type": "code",
   "execution_count": 5,
   "metadata": {},
   "outputs": [],
   "source": [
    "roi_vols = np.genfromtxt('../../../data/resources/BNA_ROI_volumes.txt')"
   ]
  },
  {
   "cell_type": "code",
   "execution_count": 6,
   "metadata": {},
   "outputs": [],
   "source": [
    "sc_degree_df = pd.read_csv('../../../results/Yeh_BNA_EIR_qa_nothresh_centralities.tsv', delimiter='\\t', index_col=0)"
   ]
  },
  {
   "cell_type": "code",
   "execution_count": 7,
   "metadata": {},
   "outputs": [],
   "source": [
    "fc_degree_df = pd.read_csv('../../../results/NKI-1400_CompCorGSR_BNA_centralities.tsv', delimiter='\\t', index_col=0)"
   ]
  },
  {
   "cell_type": "code",
   "execution_count": 8,
   "metadata": {},
   "outputs": [],
   "source": [
    "ts_df = pd.read_csv('../../../results/NKI-1400_CompCorGSR_BNA_timescales_median.csv')"
   ]
  },
  {
   "cell_type": "code",
   "execution_count": 9,
   "metadata": {},
   "outputs": [],
   "source": [
    "fc_pc = np.genfromtxt('../../../results/NKI_1400_CompCorGSR_BNA_zmat_mean_po_Louvain/MegaPart_gamma2p2_PC.txt')"
   ]
  },
  {
   "cell_type": "code",
   "execution_count": 10,
   "metadata": {},
   "outputs": [],
   "source": [
    "fc_wmd = np.genfromtxt('../../../results/NKI_1400_CompCorGSR_BNA_zmat_mean_po_Louvain/MegaPart_gamma2p2_WMDz.txt')"
   ]
  },
  {
   "cell_type": "code",
   "execution_count": 11,
   "metadata": {},
   "outputs": [],
   "source": [
    "sc_pc = np.genfromtxt('../../../results/Yeh_BNA_EIR_qa_nothresh_Louvain/gamma1p2_PC.txt')"
   ]
  },
  {
   "cell_type": "code",
   "execution_count": 12,
   "metadata": {},
   "outputs": [],
   "source": [
    "sc_wmd = np.genfromtxt('../../../results/Yeh_BNA_EIR_qa_nothresh_Louvain/gamma1p2_WMDz.txt')"
   ]
  },
  {
   "cell_type": "code",
   "execution_count": 13,
   "metadata": {},
   "outputs": [],
   "source": [
    "dat = pd.DataFrame(np.array([sc_degree_df.strength.values, fc_degree_df.strength_zmean_po.values,\n",
    "                             ts_df.decay10_median.values, ts_df.decay20_median.values, ts_df.lag1_median.values, \n",
    "                             sc_wmd, fc_wmd, fc_pc, sc_pc, roi_vols]).T,\n",
    "                   columns = ['sc_strength', \"fc_strength\", 'decay10', 'decay20', 'lag1', 'sc_wmd',\n",
    "                              'fc_wmd', 'fc_pc', 'sc_pc', 'roi_vols'])"
   ]
  },
  {
   "cell_type": "markdown",
   "metadata": {},
   "source": [
    "### Single X, Single Z"
   ]
  },
  {
   "cell_type": "code",
   "execution_count": 18,
   "metadata": {},
   "outputs": [],
   "source": [
    "x1z1_fval, x1z1_pvals, x1z1_model, x1z1_fnull = fl.mlr_perm(dat, 'fc_strength', ['sc_wmd'], ['roi_vols'], stat='fstat',\n",
    "                                                            n_perms=100000, return_null=True, return_surrogates=False)"
   ]
  },
  {
   "cell_type": "code",
   "execution_count": 19,
   "metadata": {},
   "outputs": [
    {
     "data": {
      "text/plain": [
       "4.78683633625097"
      ]
     },
     "execution_count": 19,
     "metadata": {},
     "output_type": "execute_result"
    }
   ],
   "source": [
    "x1z1_fval"
   ]
  },
  {
   "cell_type": "code",
   "execution_count": 20,
   "metadata": {},
   "outputs": [
    {
     "data": {
      "text/plain": [
       "p_greater    0.02984\n",
       "dtype: float64"
      ]
     },
     "execution_count": 20,
     "metadata": {},
     "output_type": "execute_result"
    }
   ],
   "source": [
    "x1z1_pvals"
   ]
  },
  {
   "cell_type": "markdown",
   "metadata": {},
   "source": [
    "### Single X, Multiple Z"
   ]
  },
  {
   "cell_type": "code",
   "execution_count": 22,
   "metadata": {},
   "outputs": [],
   "source": [
    "x1z2_fval, x1z2_pvals, x1z2_model, x1z2_fnull = fl.mlr_perm(dat, 'fc_strength', ['sc_wmd'], ['roi_vols', 'fc_pc'], stat='fstat',\n",
    "                                                            n_perms=100000, return_null=True, return_surrogates=False)"
   ]
  },
  {
   "cell_type": "code",
   "execution_count": 23,
   "metadata": {},
   "outputs": [
    {
     "data": {
      "text/plain": [
       "1.183740087106998"
      ]
     },
     "execution_count": 23,
     "metadata": {},
     "output_type": "execute_result"
    }
   ],
   "source": [
    "x1z2_fval"
   ]
  },
  {
   "cell_type": "code",
   "execution_count": 24,
   "metadata": {},
   "outputs": [
    {
     "data": {
      "text/plain": [
       "p_greater    0.276257\n",
       "dtype: float64"
      ]
     },
     "execution_count": 24,
     "metadata": {},
     "output_type": "execute_result"
    }
   ],
   "source": [
    "x1z2_pvals"
   ]
  },
  {
   "cell_type": "markdown",
   "metadata": {},
   "source": [
    "### Multiple X, Multiple Z"
   ]
  },
  {
   "cell_type": "code",
   "execution_count": 25,
   "metadata": {},
   "outputs": [],
   "source": [
    "x2z2_fval, x2z2_pvals, x2z2_model, x2z2_fnull = fl.mlr_perm(dat, 'fc_strength', ['sc_wmd', 'sc_pc'], ['roi_vols','fc_pc'], stat='fstat',\n",
    "                                                            n_perms=100000, return_null=True, return_surrogates=False)"
   ]
  },
  {
   "cell_type": "code",
   "execution_count": 26,
   "metadata": {},
   "outputs": [
    {
     "data": {
      "text/plain": [
       "1.6504957522078691"
      ]
     },
     "execution_count": 26,
     "metadata": {},
     "output_type": "execute_result"
    }
   ],
   "source": [
    "x2z2_fval"
   ]
  },
  {
   "cell_type": "code",
   "execution_count": 27,
   "metadata": {},
   "outputs": [
    {
     "data": {
      "text/plain": [
       "p_greater    0.194618\n",
       "dtype: float64"
      ]
     },
     "execution_count": 27,
     "metadata": {},
     "output_type": "execute_result"
    }
   ],
   "source": [
    "x2z2_pvals"
   ]
  },
  {
   "cell_type": "markdown",
   "metadata": {},
   "source": [
    "### Multiple X, Single Z"
   ]
  },
  {
   "cell_type": "code",
   "execution_count": 28,
   "metadata": {},
   "outputs": [],
   "source": [
    "x2z1_fval, x2z1_pvals, x2z1_model, x2z1_fnull = fl.mlr_perm(dat, 'fc_strength', ['sc_wmd', 'sc_pc'], ['roi_vols'], stat='fstat',\n",
    "                                                            n_perms=100000, return_null=True, return_surrogates=False)"
   ]
  },
  {
   "cell_type": "code",
   "execution_count": 29,
   "metadata": {},
   "outputs": [
    {
     "data": {
      "text/plain": [
       "3.6331784357883343"
      ]
     },
     "execution_count": 29,
     "metadata": {},
     "output_type": "execute_result"
    }
   ],
   "source": [
    "x2z1_fval"
   ]
  },
  {
   "cell_type": "code",
   "execution_count": 31,
   "metadata": {},
   "outputs": [
    {
     "data": {
      "text/plain": [
       "p_greater    0.02831\n",
       "dtype: float64"
      ]
     },
     "execution_count": 31,
     "metadata": {},
     "output_type": "execute_result"
    }
   ],
   "source": [
    "x2z1_pvals"
   ]
  }
 ],
 "metadata": {
  "kernelspec": {
   "display_name": "Python (playpen)",
   "language": "python",
   "name": "playpen"
  },
  "language_info": {
   "codemirror_mode": {
    "name": "ipython",
    "version": 3
   },
   "file_extension": ".py",
   "mimetype": "text/x-python",
   "name": "python",
   "nbconvert_exporter": "python",
   "pygments_lexer": "ipython3",
   "version": "3.7.10"
  },
  "toc-autonumbering": false,
  "toc-showmarkdowntxt": false
 },
 "nbformat": 4,
 "nbformat_minor": 4
}
